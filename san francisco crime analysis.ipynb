{
 "cells": [
  {
   "cell_type": "markdown",
   "id": "522a297b",
   "metadata": {
    "papermill": {
     "duration": 0.033066,
     "end_time": "2021-08-08T18:14:11.682822",
     "exception": false,
     "start_time": "2021-08-08T18:14:11.649756",
     "status": "completed"
    },
    "tags": []
   },
   "source": [
    "# Importing Essential Libraries"
   ]
  },
  {
   "cell_type": "code",
   "execution_count": 104,
   "id": "346b5b1b",
   "metadata": {},
   "outputs": [],
   "source": [
    "from IPython.display import display, HTML\n",
    "import pandas as pd\n",
    "import sqlite3\n",
    "from sqlite3 import Error\n",
    "\n",
    "def create_connection(db_file, delete_db=False):\n",
    "    import os\n",
    "    if delete_db and os.path.exists(db_file):\n",
    "        os.remove(db_file)\n",
    "\n",
    "    conn = None\n",
    "    try:\n",
    "        conn = sqlite3.connect(db_file)\n",
    "        conn.execute(\"PRAGMA foreign_keys = 1\")\n",
    "    except Error as e:\n",
    "        print(e)\n",
    "\n",
    "    return conn\n",
    "\n",
    "\n",
    "def create_table(conn, create_table_sql, drop_table_name=None):\n",
    "    \n",
    "    if drop_table_name: # You can optionally pass drop_table_name to drop the table. \n",
    "        try:\n",
    "            c = conn.cursor()\n",
    "            c.execute(\"\"\"DROP TABLE IF EXISTS %s\"\"\" % (drop_table_name))\n",
    "        except Error as e:\n",
    "            print(e)\n",
    "    \n",
    "    try:\n",
    "        c = conn.cursor()\n",
    "        c.execute(create_table_sql)\n",
    "    except Error as e:\n",
    "        print(e)\n",
    "        \n",
    "def execute_sql_statement(sql_statement, conn):\n",
    "    cur = conn.cursor()\n",
    "    cur.execute(sql_statement)\n",
    "\n",
    "    rows = cur.fetchall()\n",
    "\n",
    "    return rows\n"
   ]
  },
  {
   "cell_type": "code",
   "execution_count": 105,
   "id": "ea26e539",
   "metadata": {},
   "outputs": [],
   "source": [
    "normalized_database_filename = 'normalized.db'\n",
    "conn = create_connection(normalized_database_filename, delete_db=True)"
   ]
  },
  {
   "cell_type": "code",
   "execution_count": 106,
   "id": "4c457019",
   "metadata": {},
   "outputs": [],
   "source": [
    "def create_train_table(normalized_database_filename='normalized.db'):\n",
    "    f=open('crimetrain.csv','r')\n",
    "    Date_time=[]\n",
    "    Dates=[]\n",
    "    Time=[]\n",
    "    Category=[]\n",
    "    Descript=[]\n",
    "    Dayofweek=[]\n",
    "    PdDistrict=[]\n",
    "    Resolution=[]\n",
    "    Address=[]\n",
    "    X=[]\n",
    "    Y=[]\n",
    "    \n",
    "    \n",
    "    \n",
    "   \n",
    "    for i in f:\n",
    "        a=i.split(\",\")\n",
    "        Date_time.append(a[1])\n",
    "        Category.append(a[2])\n",
    "        Descript.append(a[3])\n",
    "        Dayofweek.append(a[4])\n",
    "        PdDistrict.append(a[5])\n",
    "        Resolution.append(a[6])\n",
    "        Address.append(a[7])\n",
    "        X.append(a[8])\n",
    "        Y.append(a[9])\n",
    "    #print(Date_time[0])\n",
    "\n",
    "    final_dates=Date_time[1:]\n",
    "    \n",
    "    for j in final_dates:\n",
    "        b=j.split(\" \")\n",
    "        Dates.append(b[0])\n",
    "        Time.append(b[1])\n",
    "    #print(Dates[0])\n",
    "    #print(Time[0])\n",
    "    final_Category=Category[1:]\n",
    "    final_Descript=Descript[1:]\n",
    "    final_Dayofweek=Dayofweek[1:]\n",
    "    final_PdDistrict=PdDistrict[1:]\n",
    "    final_Resolution=Resolution[1:]\n",
    "    final_Address=Address[1:]\n",
    "    final_X=X[1:]\n",
    "    final_Y=Y[1:]\n",
    "    final_tuple=[]\n",
    "    \n",
    "    \n",
    "    \n",
    "    create_table(conn,\"create table CrimeTable(ID INTEGER,Dates TEXT,Time TEXT,Category TEXT,Descript TEXT,DayofWeek TEXT,PdDistrict TEXT,Resolution TEXT,Address TEXT,X FLOAT,Y FLOAT ,PRIMARY KEY(ID))\",drop_table_name='CrimeTable')\n",
    "    \n",
    "    for k in range(len(Category)-1):\n",
    "        final_tuple.append((k+1,Dates[k],Time[k],final_Category[k],final_Descript[k],final_Dayofweek[k],final_PdDistrict[k],final_Resolution[k],final_Address[k],final_X[k],final_Y[k]))\n",
    "    \n",
    "    \n",
    "    with conn:\n",
    "        sql = \"\"\"INSERT INTO CrimeTable\n",
    "                  VALUES(?,?,?,?,?,?,?,?,?,?,?)\"\"\"\n",
    "        cur = conn.cursor()\n",
    "        cur.executemany(sql, final_tuple)\n",
    "    #sql_statement = \"select * from CrimeTable \"\n",
    "   # df = pd.read_sql_query(sql_statement, conn)\n",
    "   # display(df)\n",
    "   # conn.commit()\n",
    "  "
   ]
  },
  {
   "cell_type": "code",
   "execution_count": 107,
   "id": "49599fb8",
   "metadata": {},
   "outputs": [],
   "source": [
    "df=create_train_table(normalized_database_filename='normalized.db')"
   ]
  },
  {
   "cell_type": "code",
   "execution_count": 108,
   "id": "47f2bec5",
   "metadata": {},
   "outputs": [],
   "source": [
    "cnx = sqlite3.connect('normalized.db')\n",
    "\n",
    "df = pd.read_sql_query(\"SELECT * FROM CrimeTable \", cnx)"
   ]
  },
  {
   "cell_type": "code",
   "execution_count": 109,
   "id": "f9ac1413",
   "metadata": {},
   "outputs": [
    {
     "data": {
      "text/html": [
       "<div>\n",
       "<style scoped>\n",
       "    .dataframe tbody tr th:only-of-type {\n",
       "        vertical-align: middle;\n",
       "    }\n",
       "\n",
       "    .dataframe tbody tr th {\n",
       "        vertical-align: top;\n",
       "    }\n",
       "\n",
       "    .dataframe thead th {\n",
       "        text-align: right;\n",
       "    }\n",
       "</style>\n",
       "<table border=\"1\" class=\"dataframe\">\n",
       "  <thead>\n",
       "    <tr style=\"text-align: right;\">\n",
       "      <th></th>\n",
       "      <th>ID</th>\n",
       "      <th>Dates</th>\n",
       "      <th>Time</th>\n",
       "      <th>Category</th>\n",
       "      <th>Descript</th>\n",
       "      <th>DayofWeek</th>\n",
       "      <th>PdDistrict</th>\n",
       "      <th>Resolution</th>\n",
       "      <th>Address</th>\n",
       "      <th>X</th>\n",
       "      <th>Y</th>\n",
       "    </tr>\n",
       "  </thead>\n",
       "  <tbody>\n",
       "    <tr>\n",
       "      <th>0</th>\n",
       "      <td>1</td>\n",
       "      <td>2015-05-13</td>\n",
       "      <td>23:53:00</td>\n",
       "      <td>WARRANTS</td>\n",
       "      <td>WARRANT ARREST</td>\n",
       "      <td>Wednesday</td>\n",
       "      <td>NORTHERN</td>\n",
       "      <td>ARREST/ BOOKED</td>\n",
       "      <td>OAK ST / LAGUNA ST</td>\n",
       "      <td>-122.425892</td>\n",
       "      <td>37.774599</td>\n",
       "    </tr>\n",
       "    <tr>\n",
       "      <th>1</th>\n",
       "      <td>2</td>\n",
       "      <td>2015-05-13</td>\n",
       "      <td>23:53:00</td>\n",
       "      <td>OTHER OFFENSES</td>\n",
       "      <td>TRAFFIC VIOLATION ARREST</td>\n",
       "      <td>Wednesday</td>\n",
       "      <td>NORTHERN</td>\n",
       "      <td>ARREST/ BOOKED</td>\n",
       "      <td>OAK ST / LAGUNA ST</td>\n",
       "      <td>-122.425892</td>\n",
       "      <td>37.774599</td>\n",
       "    </tr>\n",
       "    <tr>\n",
       "      <th>2</th>\n",
       "      <td>3</td>\n",
       "      <td>2015-05-13</td>\n",
       "      <td>23:33:00</td>\n",
       "      <td>OTHER OFFENSES</td>\n",
       "      <td>TRAFFIC VIOLATION ARREST</td>\n",
       "      <td>Wednesday</td>\n",
       "      <td>NORTHERN</td>\n",
       "      <td>ARREST/ BOOKED</td>\n",
       "      <td>VANNESS AV / GREENWICH ST</td>\n",
       "      <td>-122.424363</td>\n",
       "      <td>37.800414</td>\n",
       "    </tr>\n",
       "    <tr>\n",
       "      <th>3</th>\n",
       "      <td>4</td>\n",
       "      <td>2015-05-13</td>\n",
       "      <td>23:30:00</td>\n",
       "      <td>LARCENY/THEFT</td>\n",
       "      <td>GRAND THEFT FROM LOCKED AUTO</td>\n",
       "      <td>Wednesday</td>\n",
       "      <td>NORTHERN</td>\n",
       "      <td>NONE</td>\n",
       "      <td>1500 Block of LOMBARD ST</td>\n",
       "      <td>-122.426995</td>\n",
       "      <td>37.800873</td>\n",
       "    </tr>\n",
       "    <tr>\n",
       "      <th>4</th>\n",
       "      <td>5</td>\n",
       "      <td>2015-05-13</td>\n",
       "      <td>23:30:00</td>\n",
       "      <td>LARCENY/THEFT</td>\n",
       "      <td>GRAND THEFT FROM LOCKED AUTO</td>\n",
       "      <td>Wednesday</td>\n",
       "      <td>PARK</td>\n",
       "      <td>NONE</td>\n",
       "      <td>100 Block of BRODERICK ST</td>\n",
       "      <td>-122.438738</td>\n",
       "      <td>37.771541</td>\n",
       "    </tr>\n",
       "  </tbody>\n",
       "</table>\n",
       "</div>"
      ],
      "text/plain": [
       "   ID       Dates      Time        Category                      Descript  \\\n",
       "0   1  2015-05-13  23:53:00        WARRANTS                WARRANT ARREST   \n",
       "1   2  2015-05-13  23:53:00  OTHER OFFENSES      TRAFFIC VIOLATION ARREST   \n",
       "2   3  2015-05-13  23:33:00  OTHER OFFENSES      TRAFFIC VIOLATION ARREST   \n",
       "3   4  2015-05-13  23:30:00   LARCENY/THEFT  GRAND THEFT FROM LOCKED AUTO   \n",
       "4   5  2015-05-13  23:30:00   LARCENY/THEFT  GRAND THEFT FROM LOCKED AUTO   \n",
       "\n",
       "   DayofWeek PdDistrict      Resolution                    Address  \\\n",
       "0  Wednesday   NORTHERN  ARREST/ BOOKED         OAK ST / LAGUNA ST   \n",
       "1  Wednesday   NORTHERN  ARREST/ BOOKED         OAK ST / LAGUNA ST   \n",
       "2  Wednesday   NORTHERN  ARREST/ BOOKED  VANNESS AV / GREENWICH ST   \n",
       "3  Wednesday   NORTHERN            NONE   1500 Block of LOMBARD ST   \n",
       "4  Wednesday       PARK            NONE  100 Block of BRODERICK ST   \n",
       "\n",
       "            X          Y  \n",
       "0 -122.425892  37.774599  \n",
       "1 -122.425892  37.774599  \n",
       "2 -122.424363  37.800414  \n",
       "3 -122.426995  37.800873  \n",
       "4 -122.438738  37.771541  "
      ]
     },
     "execution_count": 109,
     "metadata": {},
     "output_type": "execute_result"
    }
   ],
   "source": [
    "df.head(5)"
   ]
  },
  {
   "cell_type": "code",
   "execution_count": 110,
   "id": "87b932ff",
   "metadata": {},
   "outputs": [
    {
     "name": "stdout",
     "output_type": "stream",
     "text": [
      "<class 'pandas.core.frame.DataFrame'>\n",
      "RangeIndex: 878049 entries, 0 to 878048\n",
      "Data columns (total 11 columns):\n",
      " #   Column      Non-Null Count   Dtype  \n",
      "---  ------      --------------   -----  \n",
      " 0   ID          878049 non-null  int64  \n",
      " 1   Dates       878049 non-null  object \n",
      " 2   Time        878049 non-null  object \n",
      " 3   Category    878049 non-null  object \n",
      " 4   Descript    878049 non-null  object \n",
      " 5   DayofWeek   878049 non-null  object \n",
      " 6   PdDistrict  878049 non-null  object \n",
      " 7   Resolution  878049 non-null  object \n",
      " 8   Address     878049 non-null  object \n",
      " 9   X           878049 non-null  float64\n",
      " 10  Y           878049 non-null  float64\n",
      "dtypes: float64(2), int64(1), object(8)\n",
      "memory usage: 73.7+ MB\n"
     ]
    }
   ],
   "source": [
    "df.info()"
   ]
  },
  {
   "cell_type": "code",
   "execution_count": 111,
   "id": "50fc71d3",
   "metadata": {},
   "outputs": [
    {
     "data": {
      "text/html": [
       "<div>\n",
       "<style scoped>\n",
       "    .dataframe tbody tr th:only-of-type {\n",
       "        vertical-align: middle;\n",
       "    }\n",
       "\n",
       "    .dataframe tbody tr th {\n",
       "        vertical-align: top;\n",
       "    }\n",
       "\n",
       "    .dataframe thead th {\n",
       "        text-align: right;\n",
       "    }\n",
       "</style>\n",
       "<table border=\"1\" class=\"dataframe\">\n",
       "  <thead>\n",
       "    <tr style=\"text-align: right;\">\n",
       "      <th></th>\n",
       "      <th>ID</th>\n",
       "      <th>X</th>\n",
       "      <th>Y</th>\n",
       "    </tr>\n",
       "  </thead>\n",
       "  <tbody>\n",
       "    <tr>\n",
       "      <th>count</th>\n",
       "      <td>878049.000000</td>\n",
       "      <td>878049.000000</td>\n",
       "      <td>878049.000000</td>\n",
       "    </tr>\n",
       "    <tr>\n",
       "      <th>mean</th>\n",
       "      <td>439025.000000</td>\n",
       "      <td>-122.422616</td>\n",
       "      <td>37.771020</td>\n",
       "    </tr>\n",
       "    <tr>\n",
       "      <th>std</th>\n",
       "      <td>253471.057592</td>\n",
       "      <td>0.030354</td>\n",
       "      <td>0.456893</td>\n",
       "    </tr>\n",
       "    <tr>\n",
       "      <th>min</th>\n",
       "      <td>1.000000</td>\n",
       "      <td>-122.513642</td>\n",
       "      <td>37.707879</td>\n",
       "    </tr>\n",
       "    <tr>\n",
       "      <th>25%</th>\n",
       "      <td>219513.000000</td>\n",
       "      <td>-122.432952</td>\n",
       "      <td>37.752427</td>\n",
       "    </tr>\n",
       "    <tr>\n",
       "      <th>50%</th>\n",
       "      <td>439025.000000</td>\n",
       "      <td>-122.416420</td>\n",
       "      <td>37.775421</td>\n",
       "    </tr>\n",
       "    <tr>\n",
       "      <th>75%</th>\n",
       "      <td>658537.000000</td>\n",
       "      <td>-122.406959</td>\n",
       "      <td>37.784369</td>\n",
       "    </tr>\n",
       "    <tr>\n",
       "      <th>max</th>\n",
       "      <td>878049.000000</td>\n",
       "      <td>-120.500000</td>\n",
       "      <td>90.000000</td>\n",
       "    </tr>\n",
       "  </tbody>\n",
       "</table>\n",
       "</div>"
      ],
      "text/plain": [
       "                  ID              X              Y\n",
       "count  878049.000000  878049.000000  878049.000000\n",
       "mean   439025.000000    -122.422616      37.771020\n",
       "std    253471.057592       0.030354       0.456893\n",
       "min         1.000000    -122.513642      37.707879\n",
       "25%    219513.000000    -122.432952      37.752427\n",
       "50%    439025.000000    -122.416420      37.775421\n",
       "75%    658537.000000    -122.406959      37.784369\n",
       "max    878049.000000    -120.500000      90.000000"
      ]
     },
     "execution_count": 111,
     "metadata": {},
     "output_type": "execute_result"
    }
   ],
   "source": [
    "df.describe()"
   ]
  },
  {
   "cell_type": "code",
   "execution_count": 112,
   "id": "4c9640f0",
   "metadata": {},
   "outputs": [],
   "source": [
    "numerics = ['int16', 'int32', 'int64', 'float16', 'float32', 'float64']# finding numeric columns in dataset\n",
    "\n",
    "newdf = df.select_dtypes(include=numerics)"
   ]
  },
  {
   "cell_type": "code",
   "execution_count": 113,
   "id": "e34abcbc",
   "metadata": {},
   "outputs": [
    {
     "data": {
      "text/plain": [
       "ID            0\n",
       "Dates         0\n",
       "Time          0\n",
       "Category      0\n",
       "Descript      0\n",
       "DayofWeek     0\n",
       "PdDistrict    0\n",
       "Resolution    0\n",
       "Address       0\n",
       "X             0\n",
       "Y             0\n",
       "dtype: int64"
      ]
     },
     "execution_count": 113,
     "metadata": {},
     "output_type": "execute_result"
    }
   ],
   "source": [
    "df.isna().sum()#checking null values in dataset"
   ]
  },
  {
   "cell_type": "code",
   "execution_count": 114,
   "id": "c01439b8",
   "metadata": {},
   "outputs": [
    {
     "data": {
      "text/plain": [
       "array(['NORTHERN', 'PARK', 'INGLESIDE', 'BAYVIEW', 'RICHMOND', 'CENTRAL',\n",
       "       'TARAVAL', 'TENDERLOIN', 'MISSION', 'SOUTHERN'], dtype=object)"
      ]
     },
     "execution_count": 114,
     "metadata": {},
     "output_type": "execute_result"
    }
   ],
   "source": [
    "df.PdDistrict.unique()# finding the unique cities"
   ]
  },
  {
   "cell_type": "code",
   "execution_count": 115,
   "id": "45502efd",
   "metadata": {},
   "outputs": [],
   "source": [
    "crime_By_district=df.PdDistrict.value_counts()#No of crimes in each district "
   ]
  },
  {
   "cell_type": "code",
   "execution_count": 116,
   "id": "b05ca604",
   "metadata": {},
   "outputs": [
    {
     "data": {
      "text/plain": [
       "<AxesSubplot:>"
      ]
     },
     "execution_count": 116,
     "metadata": {},
     "output_type": "execute_result"
    },
    {
     "data": {
      "image/png": "[encoded data removed]",
      "text/plain": [
       "<Figure size 432x288 with 1 Axes>"
      ]
     },
     "metadata": {},
     "output_type": "display_data"
    }
   ],
   "source": [
    "crime_By_district.plot(kind='barh')"
   ]
  },
  {
   "cell_type": "code",
   "execution_count": 117,
   "id": "49b6e84c",
   "metadata": {},
   "outputs": [],
   "source": [
    "import seaborn as sns\n",
    "import matplotlib.pyplot as plt\n",
    "%matplotlib inline\n",
    "sns.set_style(\"darkgrid\")"
   ]
  },
  {
   "cell_type": "code",
   "execution_count": 118,
   "id": "2f093c2b",
   "metadata": {},
   "outputs": [
    {
     "data": {
      "text/plain": [
       "<AxesSubplot:xlabel='PdDistrict', ylabel='Count'>"
      ]
     },
     "execution_count": 118,
     "metadata": {},
     "output_type": "execute_result"
    },
    {
     "data": {
      "image/png": "[encoded data removed]",
      "text/plain": [
       "<Figure size 432x288 with 1 Axes>"
      ]
     },
     "metadata": {},
     "output_type": "display_data"
    }
   ],
   "source": [
    "sns.histplot(crime_By_district)"
   ]
  },
  {
   "cell_type": "code",
   "execution_count": 119,
   "id": "9a0a4432",
   "metadata": {},
   "outputs": [
    {
     "data": {
      "text/plain": [
       "array(['WARRANTS', 'OTHER OFFENSES', 'LARCENY/THEFT', 'VEHICLE THEFT',\n",
       "       'VANDALISM', 'NON-CRIMINAL', 'ROBBERY', 'ASSAULT', 'WEAPON LAWS',\n",
       "       'BURGLARY', 'SUSPICIOUS OCC', 'DRUNKENNESS',\n",
       "       'FORGERY/COUNTERFEITING', 'DRUG/NARCOTIC', 'STOLEN PROPERTY',\n",
       "       'SECONDARY CODES', 'TRESPASS', 'MISSING PERSON', 'FRAUD',\n",
       "       'KIDNAPPING', 'RUNAWAY', 'DRIVING UNDER THE INFLUENCE',\n",
       "       'SEX OFFENSES FORCIBLE', 'PROSTITUTION', 'DISORDERLY CONDUCT',\n",
       "       'ARSON', 'FAMILY OFFENSES', 'LIQUOR LAWS', 'BRIBERY',\n",
       "       'EMBEZZLEMENT', 'SUICIDE', 'LOITERING',\n",
       "       'SEX OFFENSES NON FORCIBLE', 'EXTORTION', 'GAMBLING', 'BAD CHECKS',\n",
       "       'TREA', 'RECOVERED VEHICLE', 'PORNOGRAPHY/OBSCENE MAT'],\n",
       "      dtype=object)"
      ]
     },
     "execution_count": 119,
     "metadata": {},
     "output_type": "execute_result"
    }
   ],
   "source": [
    "df['Category'].unique()"
   ]
  },
  {
   "cell_type": "code",
   "execution_count": 120,
   "id": "62c5d168",
   "metadata": {},
   "outputs": [],
   "source": [
    "crime_category=df['Category'].value_counts().head(25)"
   ]
  },
  {
   "cell_type": "code",
   "execution_count": 121,
   "id": "c5a4a9e6",
   "metadata": {},
   "outputs": [
    {
     "data": {
      "text/plain": [
       "<AxesSubplot:>"
      ]
     },
     "execution_count": 121,
     "metadata": {},
     "output_type": "execute_result"
    },
    {
     "data": {
      "image/png": "[encoded data removed]",
      "text/plain": [
       "<Figure size 432x288 with 1 Axes>"
      ]
     },
     "metadata": {},
     "output_type": "display_data"
    }
   ],
   "source": [
    "crime_category[0:25].plot(kind='barh')#most no of crimes"
   ]
  },
  {
   "cell_type": "code",
   "execution_count": 122,
   "id": "b5ad42b6",
   "metadata": {},
   "outputs": [
    {
     "data": {
      "text/plain": [
       "Friday       133734\n",
       "Wednesday    129211\n",
       "Saturday     126810\n",
       "Thursday     125038\n",
       "Tuesday      124965\n",
       "Monday       121584\n",
       "Sunday       116707\n",
       "Name: DayofWeek, dtype: int64"
      ]
     },
     "execution_count": 122,
     "metadata": {},
     "output_type": "execute_result"
    }
   ],
   "source": [
    "df['DayofWeek'].value_counts()"
   ]
  },
  {
   "cell_type": "code",
   "execution_count": 123,
   "id": "f5f3d19d",
   "metadata": {},
   "outputs": [],
   "source": [
    "category_values=df['Category'].value_counts()\n",
    "day_values=df['DayofWeek'].value_counts()"
   ]
  },
  {
   "cell_type": "code",
   "execution_count": 124,
   "id": "dd366db2",
   "metadata": {},
   "outputs": [
    {
     "data": {
      "text/plain": [
       "<AxesSubplot:>"
      ]
     },
     "execution_count": 124,
     "metadata": {},
     "output_type": "execute_result"
    },
    {
     "data": {
      "image/png": "[encoded data removed]",
      "text/plain": [
       "<Figure size 432x288 with 1 Axes>"
      ]
     },
     "metadata": {},
     "output_type": "display_data"
    }
   ],
   "source": [
    "category_values[0:20].plot(kind='barh')"
   ]
  },
  {
   "cell_type": "code",
   "execution_count": 125,
   "id": "be3f64ab",
   "metadata": {},
   "outputs": [
    {
     "data": {
      "image/png": "[encoded data removed]",
      "text/plain": [
       "<Figure size 720x360 with 1 Axes>"
      ]
     },
     "metadata": {},
     "output_type": "display_data"
    }
   ],
   "source": [
    "figure, axs = plt.subplots(figsize = (10,5))\n",
    "sns.countplot(x = df[\"PdDistrict\"])\n",
    "plt.show()"
   ]
  },
  {
   "cell_type": "code",
   "execution_count": 126,
   "id": "6a4ed90e",
   "metadata": {},
   "outputs": [
    {
     "data": {
      "image/png": "[encoded data removed]",
      "text/plain": [
       "<Figure size 1152x720 with 2 Axes>"
      ]
     },
     "metadata": {},
     "output_type": "display_data"
    }
   ],
   "source": [
    "df_cr=pd.DataFrame(df['Category'].value_counts())\n",
    "df_cr.tail()\n",
    "plt.figure(figsize=(16,10))\n",
    "ax1 =  plt.subplot2grid((1,2),(0,0))\n",
    "ax1.set_title('Top 10', size=16)\n",
    "sns.barplot(x=df_cr.head(10).index, y='Category', data=df_cr.head(10))\n",
    "ax1.set_xticklabels(ax1.xaxis.get_ticklabels(), rotation=90)\n",
    "ax2 =  plt.subplot2grid((1,2),(0,1))\n",
    "ax2.set_title('Bottom 10', size=16)\n",
    "sns.barplot(x=df_cr.tail(10).index, y='Category', data=df_cr.tail(10))\n",
    "ax2.set_xticklabels(ax2.xaxis.get_ticklabels(), rotation=90)\n",
    "plt.show()"
   ]
  },
  {
   "cell_type": "code",
   "execution_count": 127,
   "id": "c7e531bc",
   "metadata": {},
   "outputs": [
    {
     "data": {
      "text/plain": [
       "<AxesSubplot:xlabel='PdDistrict'>"
      ]
     },
     "execution_count": 127,
     "metadata": {},
     "output_type": "execute_result"
    },
    {
     "data": {
      "image/png": "[encoded data removed]",
      "text/plain": [
       "<Figure size 1080x1080 with 1 Axes>"
      ]
     },
     "metadata": {},
     "output_type": "display_data"
    }
   ],
   "source": [
    "top10cc=pd.Series(df_cr.head(10).index)\n",
    "top10=df[df['Category'].isin(top10cc)]\n",
    "tmp=pd.DataFrame(top10.groupby(['PdDistrict','Category']).size(), columns=['count'])\n",
    "tmp.reset_index(inplace=True)\n",
    "tmp=tmp.pivot(index='PdDistrict',columns='Category',values='count')\n",
    "fig, axes = plt.subplots(1,1,figsize=(15,15))\n",
    "tmp.plot(ax=axes,kind='bar', stacked=True)"
   ]
  },
  {
   "cell_type": "code",
   "execution_count": null,
   "id": "0416aec6",
   "metadata": {},
   "outputs": [],
   "source": []
  },
  {
   "cell_type": "code",
   "execution_count": 128,
   "id": "f0e33107",
   "metadata": {
    "execution": {
     "iopub.execute_input": "2021-08-08T18:14:11.756450Z",
     "iopub.status.busy": "2021-08-08T18:14:11.755787Z",
     "iopub.status.idle": "2021-08-08T18:14:12.890059Z",
     "shell.execute_reply": "2021-08-08T18:14:12.889118Z",
     "shell.execute_reply.started": "2021-08-08T18:09:15.846937Z"
    },
    "papermill": {
     "duration": 1.177007,
     "end_time": "2021-08-08T18:14:12.890219",
     "exception": false,
     "start_time": "2021-08-08T18:14:11.713212",
     "status": "completed"
    },
    "tags": []
   },
   "outputs": [],
   "source": [
    "import pandas as pd\n",
    "import os\n",
    "import numpy as np\n",
    "import seaborn as sns\n",
    "import matplotlib.pyplot as plt\n",
    "from matplotlib import cm\n",
    "\n",
    "from sklearn.preprocessing import LabelEncoder\n",
    "from sklearn.impute import SimpleImputer\n",
    "from sklearn.model_selection import train_test_split\n",
    "from sklearn.metrics import classification_report,confusion_matrix\n",
    "\n",
    "from sklearn.tree import DecisionTreeClassifier\n",
    "from sklearn.ensemble import RandomForestClassifier\n",
    "from sklearn.metrics import accuracy_score"
   ]
  },
  {
   "cell_type": "code",
   "execution_count": null,
   "id": "693d9a20",
   "metadata": {},
   "outputs": [],
   "source": []
  },
  {
   "cell_type": "code",
   "execution_count": 129,
   "id": "a1c2f774",
   "metadata": {
    "execution": {
     "iopub.execute_input": "2021-08-08T18:14:13.039217Z",
     "iopub.status.busy": "2021-08-08T18:14:13.038273Z",
     "iopub.status.idle": "2021-08-08T18:14:18.981185Z",
     "shell.execute_reply": "2021-08-08T18:14:18.980117Z",
     "shell.execute_reply.started": "2021-08-08T18:09:15.870154Z"
    },
    "papermill": {
     "duration": 5.998118,
     "end_time": "2021-08-08T18:14:18.981349",
     "exception": false,
     "start_time": "2021-08-08T18:14:12.983231",
     "status": "completed"
    },
    "tags": []
   },
   "outputs": [],
   "source": [
    "test = pd.read_csv(\"test.csv\",parse_dates = ['Dates'],index_col = 'Id')\n",
    "train = pd.read_csv(\"train.csv\",parse_dates = ['Dates'])"
   ]
  },
  {
   "cell_type": "markdown",
   "id": "3c535001",
   "metadata": {
    "papermill": {
     "duration": 0.034882,
     "end_time": "2021-08-08T18:14:20.187166",
     "exception": false,
     "start_time": "2021-08-08T18:14:20.152284",
     "status": "completed"
    },
    "tags": []
   },
   "source": [
    "# Computing Null Values and Duplicates"
   ]
  },
  {
   "cell_type": "code",
   "execution_count": null,
   "id": "d794bab9",
   "metadata": {},
   "outputs": [],
   "source": []
  },
  {
   "cell_type": "code",
   "execution_count": null,
   "id": "2f1c654d",
   "metadata": {},
   "outputs": [],
   "source": []
  },
  {
   "cell_type": "code",
   "execution_count": 130,
   "id": "f2eccf34",
   "metadata": {
    "execution": {
     "iopub.execute_input": "2021-08-08T18:14:20.265741Z",
     "iopub.status.busy": "2021-08-08T18:14:20.263887Z",
     "iopub.status.idle": "2021-08-08T18:14:20.266470Z",
     "shell.execute_reply": "2021-08-08T18:14:20.266922Z",
     "shell.execute_reply.started": "2021-08-08T18:09:21.424348Z"
    },
    "papermill": {
     "duration": 0.046551,
     "end_time": "2021-08-08T18:14:20.267087",
     "exception": false,
     "start_time": "2021-08-08T18:14:20.220536",
     "status": "completed"
    },
    "tags": []
   },
   "outputs": [],
   "source": [
    "#Function for printing null_values and related info\n",
    "def description(data):\n",
    "    no_rows=data.shape[0]\n",
    "    types=data.dtypes\n",
    "    col_null = data.columns[data.isna().any()].to_list()\n",
    "    counts=data.apply(lambda x: x.count())\n",
    "    uniques=data.apply(lambda x: x.unique())\n",
    "    nulls=data.apply(lambda x: x.isnull().sum())\n",
    "    distincts=data.apply(lambda x: x.unique().shape[0])\n",
    "    nan_percent=(data.isnull().sum()/no_rows)*100\n",
    "    cols={'dtypes':types, 'counts':counts, 'distincts':distincts, 'nulls':nulls,  \n",
    "          'missing_percent':nan_percent, 'uniques':uniques}\n",
    "    table=pd.DataFrame(data=cols)\n",
    "    return table"
   ]
  },
  {
   "cell_type": "code",
   "execution_count": 131,
   "id": "c90eeac1",
   "metadata": {
    "execution": {
     "iopub.execute_input": "2021-08-08T18:14:20.338918Z",
     "iopub.status.busy": "2021-08-08T18:14:20.337989Z",
     "iopub.status.idle": "2021-08-08T18:14:23.318950Z",
     "shell.execute_reply": "2021-08-08T18:14:23.318415Z",
     "shell.execute_reply.started": "2021-08-08T18:09:21.438417Z"
    },
    "papermill": {
     "duration": 3.018282,
     "end_time": "2021-08-08T18:14:23.319124",
     "exception": false,
     "start_time": "2021-08-08T18:14:20.300842",
     "status": "completed"
    },
    "tags": []
   },
   "outputs": [
    {
     "data": {
      "text/html": [
       "<div>\n",
       "<style scoped>\n",
       "    .dataframe tbody tr th:only-of-type {\n",
       "        vertical-align: middle;\n",
       "    }\n",
       "\n",
       "    .dataframe tbody tr th {\n",
       "        vertical-align: top;\n",
       "    }\n",
       "\n",
       "    .dataframe thead th {\n",
       "        text-align: right;\n",
       "    }\n",
       "</style>\n",
       "<table border=\"1\" class=\"dataframe\">\n",
       "  <thead>\n",
       "    <tr style=\"text-align: right;\">\n",
       "      <th></th>\n",
       "      <th>index</th>\n",
       "      <th>dtypes</th>\n",
       "      <th>counts</th>\n",
       "      <th>distincts</th>\n",
       "      <th>nulls</th>\n",
       "      <th>missing_percent</th>\n",
       "      <th>uniques</th>\n",
       "    </tr>\n",
       "  </thead>\n",
       "  <tbody>\n",
       "    <tr>\n",
       "      <th>0</th>\n",
       "      <td>Dates</td>\n",
       "      <td>datetime64[ns]</td>\n",
       "      <td>878049</td>\n",
       "      <td>389257</td>\n",
       "      <td>0</td>\n",
       "      <td>0.0</td>\n",
       "      <td>[2015-05-13T23:53:00.000000000, 2015-05-13T23:...</td>\n",
       "    </tr>\n",
       "    <tr>\n",
       "      <th>1</th>\n",
       "      <td>Category</td>\n",
       "      <td>object</td>\n",
       "      <td>878049</td>\n",
       "      <td>39</td>\n",
       "      <td>0</td>\n",
       "      <td>0.0</td>\n",
       "      <td>[WARRANTS, OTHER OFFENSES, LARCENY/THEFT, VEHI...</td>\n",
       "    </tr>\n",
       "    <tr>\n",
       "      <th>2</th>\n",
       "      <td>Descript</td>\n",
       "      <td>object</td>\n",
       "      <td>878049</td>\n",
       "      <td>879</td>\n",
       "      <td>0</td>\n",
       "      <td>0.0</td>\n",
       "      <td>[WARRANT ARREST, TRAFFIC VIOLATION ARREST, GRA...</td>\n",
       "    </tr>\n",
       "    <tr>\n",
       "      <th>3</th>\n",
       "      <td>DayOfWeek</td>\n",
       "      <td>object</td>\n",
       "      <td>878049</td>\n",
       "      <td>7</td>\n",
       "      <td>0</td>\n",
       "      <td>0.0</td>\n",
       "      <td>[Wednesday, Tuesday, Monday, Sunday, Saturday,...</td>\n",
       "    </tr>\n",
       "    <tr>\n",
       "      <th>4</th>\n",
       "      <td>PdDistrict</td>\n",
       "      <td>object</td>\n",
       "      <td>878049</td>\n",
       "      <td>10</td>\n",
       "      <td>0</td>\n",
       "      <td>0.0</td>\n",
       "      <td>[NORTHERN, PARK, INGLESIDE, BAYVIEW, RICHMOND,...</td>\n",
       "    </tr>\n",
       "    <tr>\n",
       "      <th>5</th>\n",
       "      <td>Resolution</td>\n",
       "      <td>object</td>\n",
       "      <td>878049</td>\n",
       "      <td>17</td>\n",
       "      <td>0</td>\n",
       "      <td>0.0</td>\n",
       "      <td>[ARREST, BOOKED, NONE, ARREST, CITED, PSYCHOPA...</td>\n",
       "    </tr>\n",
       "    <tr>\n",
       "      <th>6</th>\n",
       "      <td>Address</td>\n",
       "      <td>object</td>\n",
       "      <td>878049</td>\n",
       "      <td>23228</td>\n",
       "      <td>0</td>\n",
       "      <td>0.0</td>\n",
       "      <td>[OAK ST / LAGUNA ST, VANNESS AV / GREENWICH ST...</td>\n",
       "    </tr>\n",
       "    <tr>\n",
       "      <th>7</th>\n",
       "      <td>X</td>\n",
       "      <td>float64</td>\n",
       "      <td>878049</td>\n",
       "      <td>34243</td>\n",
       "      <td>0</td>\n",
       "      <td>0.0</td>\n",
       "      <td>[-122.425891675136, -122.42436302145, -122.426...</td>\n",
       "    </tr>\n",
       "    <tr>\n",
       "      <th>8</th>\n",
       "      <td>Y</td>\n",
       "      <td>float64</td>\n",
       "      <td>878049</td>\n",
       "      <td>34243</td>\n",
       "      <td>0</td>\n",
       "      <td>0.0</td>\n",
       "      <td>[37.7745985956747, 37.8004143219856, 37.800872...</td>\n",
       "    </tr>\n",
       "  </tbody>\n",
       "</table>\n",
       "</div>"
      ],
      "text/plain": [
       "        index          dtypes  counts  distincts  nulls  missing_percent  \\\n",
       "0       Dates  datetime64[ns]  878049     389257      0              0.0   \n",
       "1    Category          object  878049         39      0              0.0   \n",
       "2    Descript          object  878049        879      0              0.0   \n",
       "3   DayOfWeek          object  878049          7      0              0.0   \n",
       "4  PdDistrict          object  878049         10      0              0.0   \n",
       "5  Resolution          object  878049         17      0              0.0   \n",
       "6     Address          object  878049      23228      0              0.0   \n",
       "7           X         float64  878049      34243      0              0.0   \n",
       "8           Y         float64  878049      34243      0              0.0   \n",
       "\n",
       "                                             uniques  \n",
       "0  [2015-05-13T23:53:00.000000000, 2015-05-13T23:...  \n",
       "1  [WARRANTS, OTHER OFFENSES, LARCENY/THEFT, VEHI...  \n",
       "2  [WARRANT ARREST, TRAFFIC VIOLATION ARREST, GRA...  \n",
       "3  [Wednesday, Tuesday, Monday, Sunday, Saturday,...  \n",
       "4  [NORTHERN, PARK, INGLESIDE, BAYVIEW, RICHMOND,...  \n",
       "5  [ARREST, BOOKED, NONE, ARREST, CITED, PSYCHOPA...  \n",
       "6  [OAK ST / LAGUNA ST, VANNESS AV / GREENWICH ST...  \n",
       "7  [-122.425891675136, -122.42436302145, -122.426...  \n",
       "8  [37.7745985956747, 37.8004143219856, 37.800872...  "
      ]
     },
     "execution_count": 131,
     "metadata": {},
     "output_type": "execute_result"
    }
   ],
   "source": [
    "#Checking Null Values In Train\n",
    "details_tr = description(train)\n",
    "details_tr.reset_index(level=[0],inplace =True)\n",
    "details_tr.sort_values(by='missing_percent', ascending=False)"
   ]
  },
  {
   "cell_type": "code",
   "execution_count": 132,
   "id": "8c93b3a0",
   "metadata": {
    "execution": {
     "iopub.execute_input": "2021-08-08T18:14:23.395499Z",
     "iopub.status.busy": "2021-08-08T18:14:23.394542Z",
     "iopub.status.idle": "2021-08-08T18:14:24.942492Z",
     "shell.execute_reply": "2021-08-08T18:14:24.941530Z",
     "shell.execute_reply.started": "2021-08-08T18:09:24.515590Z"
    },
    "papermill": {
     "duration": 1.585321,
     "end_time": "2021-08-08T18:14:24.942643",
     "exception": false,
     "start_time": "2021-08-08T18:14:23.357322",
     "status": "completed"
    },
    "tags": []
   },
   "outputs": [
    {
     "data": {
      "text/html": [
       "<div>\n",
       "<style scoped>\n",
       "    .dataframe tbody tr th:only-of-type {\n",
       "        vertical-align: middle;\n",
       "    }\n",
       "\n",
       "    .dataframe tbody tr th {\n",
       "        vertical-align: top;\n",
       "    }\n",
       "\n",
       "    .dataframe thead th {\n",
       "        text-align: right;\n",
       "    }\n",
       "</style>\n",
       "<table border=\"1\" class=\"dataframe\">\n",
       "  <thead>\n",
       "    <tr style=\"text-align: right;\">\n",
       "      <th></th>\n",
       "      <th>index</th>\n",
       "      <th>dtypes</th>\n",
       "      <th>counts</th>\n",
       "      <th>distincts</th>\n",
       "      <th>nulls</th>\n",
       "      <th>missing_percent</th>\n",
       "      <th>uniques</th>\n",
       "    </tr>\n",
       "  </thead>\n",
       "  <tbody>\n",
       "    <tr>\n",
       "      <th>0</th>\n",
       "      <td>Dates</td>\n",
       "      <td>datetime64[ns]</td>\n",
       "      <td>884262</td>\n",
       "      <td>392173</td>\n",
       "      <td>0</td>\n",
       "      <td>0.0</td>\n",
       "      <td>[2015-05-10T23:59:00.000000000, 2015-05-10T23:...</td>\n",
       "    </tr>\n",
       "    <tr>\n",
       "      <th>1</th>\n",
       "      <td>DayOfWeek</td>\n",
       "      <td>object</td>\n",
       "      <td>884262</td>\n",
       "      <td>7</td>\n",
       "      <td>0</td>\n",
       "      <td>0.0</td>\n",
       "      <td>[Sunday, Saturday, Friday, Thursday, Wednesday...</td>\n",
       "    </tr>\n",
       "    <tr>\n",
       "      <th>2</th>\n",
       "      <td>PdDistrict</td>\n",
       "      <td>object</td>\n",
       "      <td>884262</td>\n",
       "      <td>10</td>\n",
       "      <td>0</td>\n",
       "      <td>0.0</td>\n",
       "      <td>[BAYVIEW, NORTHERN, INGLESIDE, TARAVAL, MISSIO...</td>\n",
       "    </tr>\n",
       "    <tr>\n",
       "      <th>3</th>\n",
       "      <td>Address</td>\n",
       "      <td>object</td>\n",
       "      <td>884262</td>\n",
       "      <td>23184</td>\n",
       "      <td>0</td>\n",
       "      <td>0.0</td>\n",
       "      <td>[2000 Block of THOMAS AV, 3RD ST / REVERE AV, ...</td>\n",
       "    </tr>\n",
       "    <tr>\n",
       "      <th>4</th>\n",
       "      <td>X</td>\n",
       "      <td>float64</td>\n",
       "      <td>884262</td>\n",
       "      <td>34346</td>\n",
       "      <td>0</td>\n",
       "      <td>0.0</td>\n",
       "      <td>[-122.39958770418998, -122.391522893042, -122....</td>\n",
       "    </tr>\n",
       "    <tr>\n",
       "      <th>5</th>\n",
       "      <td>Y</td>\n",
       "      <td>float64</td>\n",
       "      <td>884262</td>\n",
       "      <td>34346</td>\n",
       "      <td>0</td>\n",
       "      <td>0.0</td>\n",
       "      <td>[37.7350510103906, 37.7324323864471, 37.792212...</td>\n",
       "    </tr>\n",
       "  </tbody>\n",
       "</table>\n",
       "</div>"
      ],
      "text/plain": [
       "        index          dtypes  counts  distincts  nulls  missing_percent  \\\n",
       "0       Dates  datetime64[ns]  884262     392173      0              0.0   \n",
       "1   DayOfWeek          object  884262          7      0              0.0   \n",
       "2  PdDistrict          object  884262         10      0              0.0   \n",
       "3     Address          object  884262      23184      0              0.0   \n",
       "4           X         float64  884262      34346      0              0.0   \n",
       "5           Y         float64  884262      34346      0              0.0   \n",
       "\n",
       "                                             uniques  \n",
       "0  [2015-05-10T23:59:00.000000000, 2015-05-10T23:...  \n",
       "1  [Sunday, Saturday, Friday, Thursday, Wednesday...  \n",
       "2  [BAYVIEW, NORTHERN, INGLESIDE, TARAVAL, MISSIO...  \n",
       "3  [2000 Block of THOMAS AV, 3RD ST / REVERE AV, ...  \n",
       "4  [-122.39958770418998, -122.391522893042, -122....  \n",
       "5  [37.7350510103906, 37.7324323864471, 37.792212...  "
      ]
     },
     "execution_count": 132,
     "metadata": {},
     "output_type": "execute_result"
    }
   ],
   "source": [
    "#Checking Null Values In Test\n",
    "details_test = description(test)\n",
    "details_test.reset_index(level=[0],inplace =True)\n",
    "details_test.sort_values(by='missing_percent', ascending=False)"
   ]
  },
  {
   "cell_type": "markdown",
   "id": "fb672d4d",
   "metadata": {
    "papermill": {
     "duration": 0.03784,
     "end_time": "2021-08-08T18:14:25.020155",
     "exception": false,
     "start_time": "2021-08-08T18:14:24.982315",
     "status": "completed"
    },
    "tags": []
   },
   "source": [
    "> **We can see that there are no NAN values in both the datasets**"
   ]
  },
  {
   "cell_type": "markdown",
   "id": "484e5191",
   "metadata": {
    "papermill": {
     "duration": 0.038989,
     "end_time": "2021-08-08T18:14:25.097428",
     "exception": false,
     "start_time": "2021-08-08T18:14:25.058439",
     "status": "completed"
    },
    "tags": []
   },
   "source": [
    "* **We will check if the dataset contains any duplicate values**"
   ]
  },
  {
   "cell_type": "code",
   "execution_count": 133,
   "id": "adc91328",
   "metadata": {
    "execution": {
     "iopub.execute_input": "2021-08-08T18:14:25.177019Z",
     "iopub.status.busy": "2021-08-08T18:14:25.176145Z",
     "iopub.status.idle": "2021-08-08T18:14:26.080097Z",
     "shell.execute_reply": "2021-08-08T18:14:26.081247Z",
     "shell.execute_reply.started": "2021-08-08T18:09:26.044719Z"
    },
    "papermill": {
     "duration": 0.945939,
     "end_time": "2021-08-08T18:14:26.081456",
     "exception": false,
     "start_time": "2021-08-08T18:14:25.135517",
     "status": "completed"
    },
    "tags": []
   },
   "outputs": [
    {
     "data": {
      "text/plain": [
       "2323"
      ]
     },
     "execution_count": 133,
     "metadata": {},
     "output_type": "execute_result"
    }
   ],
   "source": [
    "train.duplicated().sum()"
   ]
  },
  {
   "cell_type": "markdown",
   "id": "def4f4c2",
   "metadata": {
    "papermill": {
     "duration": 0.058495,
     "end_time": "2021-08-08T18:14:26.206080",
     "exception": false,
     "start_time": "2021-08-08T18:14:26.147585",
     "status": "completed"
    },
    "tags": []
   },
   "source": [
    "# Checking For Outliers"
   ]
  },
  {
   "cell_type": "code",
   "execution_count": 134,
   "id": "5afb2487",
   "metadata": {
    "execution": {
     "iopub.execute_input": "2021-08-08T18:14:26.317949Z",
     "iopub.status.busy": "2021-08-08T18:14:26.316884Z",
     "iopub.status.idle": "2021-08-08T18:14:26.846793Z",
     "shell.execute_reply": "2021-08-08T18:14:26.845951Z",
     "shell.execute_reply.started": "2021-08-08T18:09:26.837201Z"
    },
    "papermill": {
     "duration": 0.581974,
     "end_time": "2021-08-08T18:14:26.846924",
     "exception": false,
     "start_time": "2021-08-08T18:14:26.264950",
     "status": "completed"
    },
    "tags": []
   },
   "outputs": [
    {
     "data": {
      "text/plain": [
       "<AxesSubplot:>"
      ]
     },
     "execution_count": 134,
     "metadata": {},
     "output_type": "execute_result"
    },
    {
     "data": {
      "image/png": "[encoded data removed]",
      "text/plain": [
       "<Figure size 1080x360 with 2 Axes>"
      ]
     },
     "metadata": {},
     "output_type": "display_data"
    }
   ],
   "source": [
    "#Checking the outliers\n",
    "figure, axs = plt.subplots(1,2,figsize = (15,5))\n",
    "sns.boxplot(data = train[[\"X\"]],ax=axs[0])\n",
    "sns.boxplot(data = train[[\"Y\"]],ax=axs[1])\n",
    "\n"
   ]
  },
  {
   "cell_type": "markdown",
   "id": "dc348150",
   "metadata": {
    "papermill": {
     "duration": 0.034764,
     "end_time": "2021-08-08T18:14:26.922213",
     "exception": false,
     "start_time": "2021-08-08T18:14:26.887449",
     "status": "completed"
    },
    "tags": []
   },
   "source": [
    "* **We can see there are outliers in X at -120.5 and Y at 90.0 so we will remove them in the next step**"
   ]
  },
  {
   "cell_type": "code",
   "execution_count": 135,
   "id": "aabbab47",
   "metadata": {
    "execution": {
     "iopub.execute_input": "2021-08-08T18:14:27.005669Z",
     "iopub.status.busy": "2021-08-08T18:14:27.004735Z",
     "iopub.status.idle": "2021-08-08T18:14:34.568386Z",
     "shell.execute_reply": "2021-08-08T18:14:34.567874Z",
     "shell.execute_reply.started": "2021-08-08T18:09:27.414450Z"
    },
    "papermill": {
     "duration": 7.61091,
     "end_time": "2021-08-08T18:14:34.568515",
     "exception": false,
     "start_time": "2021-08-08T18:14:26.957605",
     "status": "completed"
    },
    "tags": []
   },
   "outputs": [],
   "source": [
    "\n",
    "train.drop_duplicates(inplace=True)\n",
    "train.replace({'X': -120.5, 'Y': 90.0}, np.NaN, inplace=True)\n",
    "test.replace({'X': -120.5, 'Y': 90.0}, np.NaN, inplace=True)\n",
    "\n",
    "imp = SimpleImputer(strategy='mean')\n",
    "\n",
    "for district in train['PdDistrict'].unique():\n",
    "    train.loc[train['PdDistrict'] == district, ['X', 'Y']] = imp.fit_transform(\n",
    "        train.loc[train['PdDistrict'] == district, ['X', 'Y']])\n",
    "    test.loc[test['PdDistrict'] == district, ['X', 'Y']] = imp.transform(\n",
    "        test.loc[test['PdDistrict'] == district, ['X', 'Y']])"
   ]
  },
  {
   "cell_type": "markdown",
   "id": "48033eb3",
   "metadata": {
    "papermill": {
     "duration": 0.03948,
     "end_time": "2021-08-08T18:14:34.642888",
     "exception": false,
     "start_time": "2021-08-08T18:14:34.603408",
     "status": "completed"
    },
    "tags": []
   },
   "source": [
    "* **Box Plot after removing outliers**"
   ]
  },
  {
   "cell_type": "code",
   "execution_count": 136,
   "id": "84e93997",
   "metadata": {
    "execution": {
     "iopub.execute_input": "2021-08-08T18:14:34.725622Z",
     "iopub.status.busy": "2021-08-08T18:14:34.724630Z",
     "iopub.status.idle": "2021-08-08T18:14:35.241965Z",
     "shell.execute_reply": "2021-08-08T18:14:35.242498Z",
     "shell.execute_reply.started": "2021-08-08T18:09:34.796673Z"
    },
    "papermill": {
     "duration": 0.565,
     "end_time": "2021-08-08T18:14:35.242657",
     "exception": false,
     "start_time": "2021-08-08T18:14:34.677657",
     "status": "completed"
    },
    "tags": []
   },
   "outputs": [
    {
     "data": {
      "text/plain": [
       "<AxesSubplot:>"
      ]
     },
     "execution_count": 136,
     "metadata": {},
     "output_type": "execute_result"
    },
    {
     "data": {
      "image/png": "[encoded data removed]",
      "text/plain": [
       "<Figure size 1080x360 with 2 Axes>"
      ]
     },
     "metadata": {},
     "output_type": "display_data"
    }
   ],
   "source": [
    "figure, axs = plt.subplots(1,2,figsize = (15,5))\n",
    "sns.boxplot(data = train[[\"X\"]],ax=axs[0])\n",
    "sns.boxplot(data = train[[\"Y\"]],ax=axs[1])"
   ]
  },
  {
   "cell_type": "code",
   "execution_count": 137,
   "id": "27a043e8",
   "metadata": {
    "execution": {
     "iopub.execute_input": "2021-08-08T18:14:35.325408Z",
     "iopub.status.busy": "2021-08-08T18:14:35.324610Z",
     "iopub.status.idle": "2021-08-08T18:14:42.775736Z",
     "shell.execute_reply": "2021-08-08T18:14:42.774931Z",
     "shell.execute_reply.started": "2021-08-08T18:09:35.399980Z"
    },
    "papermill": {
     "duration": 7.492755,
     "end_time": "2021-08-08T18:14:42.775859",
     "exception": false,
     "start_time": "2021-08-08T18:14:35.283104",
     "status": "completed"
    },
    "tags": []
   },
   "outputs": [
    {
     "data": {
      "image/png": "[encoded data removed]",
      "text/plain": [
       "<Figure size 402.625x360 with 1 Axes>"
      ]
     },
     "metadata": {},
     "output_type": "display_data"
    }
   ],
   "source": [
    "train = train[train[\"Y\"] < 80]\n",
    "sns.displot(train[[\"X\"]],kde=True)\n",
    "plt.show()"
   ]
  },
  {
   "cell_type": "markdown",
   "id": "2fa5c3a9",
   "metadata": {
    "papermill": {
     "duration": 0.042126,
     "end_time": "2021-08-08T18:14:50.390063",
     "exception": false,
     "start_time": "2021-08-08T18:14:50.347937",
     "status": "completed"
    },
    "tags": []
   },
   "source": [
    "# Feature Engineering"
   ]
  },
  {
   "cell_type": "code",
   "execution_count": 138,
   "id": "446951fa",
   "metadata": {
    "execution": {
     "iopub.execute_input": "2021-08-08T18:14:50.482997Z",
     "iopub.status.busy": "2021-08-08T18:14:50.482071Z",
     "iopub.status.idle": "2021-08-08T18:15:15.935106Z",
     "shell.execute_reply": "2021-08-08T18:15:15.934620Z",
     "shell.execute_reply.started": "2021-08-08T18:09:51.316304Z"
    },
    "papermill": {
     "duration": 25.503741,
     "end_time": "2021-08-08T18:15:15.935246",
     "exception": false,
     "start_time": "2021-08-08T18:14:50.431505",
     "status": "completed"
    },
    "tags": []
   },
   "outputs": [],
   "source": [
    "def feature_engineering(data):\n",
    "    data['Date'] = pd.to_datetime(data['Dates'].dt.date)\n",
    "    data['n_days'] = (data['Date'] - data['Date'].min()).apply(lambda x: x.days)\n",
    "    data['Day'] = data['Dates'].dt.day\n",
    "    data['DayOfWeek'] = data['Dates'].dt.weekday\n",
    "    data['Month'] = data['Dates'].dt.month\n",
    "    data['Year'] = data['Dates'].dt.year\n",
    "    data['Hour'] = data['Dates'].dt.hour\n",
    "    data['Minute'] = data['Dates'].dt.minute\n",
    "    data['Block'] = data['Address'].str.contains('block', case=False).apply(lambda x: 1 if x == True else 0)\n",
    "    data[\"X-Y\"] = data[\"X\"] - data[\"Y\"]\n",
    "    data[\"XY\"] = data[\"X\"] + data[\"Y\"]\n",
    "    data.drop(columns=['Dates','Date','Address'], inplace=True)\n",
    "    return data\n",
    "train = feature_engineering(train)\n",
    "test = feature_engineering(test)\n",
    "train.drop(columns=['Descript','Resolution'], inplace=True)"
   ]
  },
  {
   "cell_type": "markdown",
   "id": "64fe54be",
   "metadata": {
    "papermill": {
     "duration": 0.042596,
     "end_time": "2021-08-08T18:15:16.020528",
     "exception": false,
     "start_time": "2021-08-08T18:15:15.977932",
     "status": "completed"
    },
    "tags": []
   },
   "source": [
    "# Encoding"
   ]
  },
  {
   "cell_type": "code",
   "execution_count": 139,
   "id": "d6fdc48e",
   "metadata": {
    "execution": {
     "iopub.execute_input": "2021-08-08T18:15:16.193727Z",
     "iopub.status.busy": "2021-08-08T18:15:16.173633Z",
     "iopub.status.idle": "2021-08-08T18:15:16.928147Z",
     "shell.execute_reply": "2021-08-08T18:15:16.927534Z",
     "shell.execute_reply.started": "2021-08-08T18:10:21.021740Z"
    },
    "papermill": {
     "duration": 0.865891,
     "end_time": "2021-08-08T18:15:16.928277",
     "exception": false,
     "start_time": "2021-08-08T18:15:16.062386",
     "status": "completed"
    },
    "tags": []
   },
   "outputs": [],
   "source": [
    "le1 = LabelEncoder()\n",
    "train['PdDistrict'] = le1.fit_transform(train['PdDistrict'])\n",
    "test['PdDistrict'] = le1.transform(test['PdDistrict'])\n",
    "\n",
    "le2 = LabelEncoder()\n",
    "X = train.drop(columns=['Category'])\n",
    "y= le2.fit_transform(train['Category'])"
   ]
  },
  {
   "cell_type": "markdown",
   "id": "70bce942",
   "metadata": {
    "papermill": {
     "duration": 0.041931,
     "end_time": "2021-08-08T18:15:17.012563",
     "exception": false,
     "start_time": "2021-08-08T18:15:16.970632",
     "status": "completed"
    },
    "tags": []
   },
   "source": [
    "# Training the Model"
   ]
  },
  {
   "cell_type": "code",
   "execution_count": 140,
   "id": "b4d27937",
   "metadata": {
    "execution": {
     "iopub.execute_input": "2021-08-08T18:15:17.102016Z",
     "iopub.status.busy": "2021-08-08T18:15:17.101314Z",
     "iopub.status.idle": "2021-08-08T18:15:17.240837Z",
     "shell.execute_reply": "2021-08-08T18:15:17.241260Z",
     "shell.execute_reply.started": "2021-08-08T18:10:21.865211Z"
    },
    "papermill": {
     "duration": 0.186304,
     "end_time": "2021-08-08T18:15:17.241424",
     "exception": false,
     "start_time": "2021-08-08T18:15:17.055120",
     "status": "completed"
    },
    "tags": []
   },
   "outputs": [],
   "source": [
    "X_train, X_test, y_train, y_test = train_test_split(X, y, test_size=0.10)"
   ]
  },
  {
   "cell_type": "code",
   "execution_count": 141,
   "id": "6b850844",
   "metadata": {
    "execution": {
     "iopub.execute_input": "2021-08-08T18:15:17.333314Z",
     "iopub.status.busy": "2021-08-08T18:15:17.332240Z",
     "iopub.status.idle": "2021-08-08T18:15:31.309682Z",
     "shell.execute_reply": "2021-08-08T18:15:31.309245Z",
     "shell.execute_reply.started": "2021-08-08T18:10:22.001768Z"
    },
    "papermill": {
     "duration": 14.025525,
     "end_time": "2021-08-08T18:15:31.309830",
     "exception": false,
     "start_time": "2021-08-08T18:15:17.284305",
     "status": "completed"
    },
    "tags": []
   },
   "outputs": [
    {
     "data": {
      "text/plain": [
       "DecisionTreeClassifier()"
      ]
     },
     "execution_count": 141,
     "metadata": {},
     "output_type": "execute_result"
    }
   ],
   "source": [
    "#Fitting data in Decision Tree\n",
    "dtree = DecisionTreeClassifier()\n",
    "dtree.fit(X_train,y_train)"
   ]
  },
  {
   "cell_type": "code",
   "execution_count": 142,
   "id": "c1aeccb1",
   "metadata": {
    "execution": {
     "iopub.execute_input": "2021-08-08T18:15:31.407838Z",
     "iopub.status.busy": "2021-08-08T18:15:31.406675Z",
     "iopub.status.idle": "2021-08-08T18:15:31.487411Z",
     "shell.execute_reply": "2021-08-08T18:15:31.486845Z",
     "shell.execute_reply.started": "2021-08-08T18:10:35.945421Z"
    },
    "papermill": {
     "duration": 0.129772,
     "end_time": "2021-08-08T18:15:31.487551",
     "exception": false,
     "start_time": "2021-08-08T18:15:31.357779",
     "status": "completed"
    },
    "tags": []
   },
   "outputs": [],
   "source": [
    "#Predicting the results\n",
    "predictions = dtree.predict(X_test)"
   ]
  },
  {
   "cell_type": "code",
   "execution_count": 143,
   "id": "28c5ad16",
   "metadata": {
    "execution": {
     "iopub.execute_input": "2021-08-08T18:15:31.584071Z",
     "iopub.status.busy": "2021-08-08T18:15:31.583311Z",
     "iopub.status.idle": "2021-08-08T18:15:31.866236Z",
     "shell.execute_reply": "2021-08-08T18:15:31.867203Z",
     "shell.execute_reply.started": "2021-08-08T18:10:36.038635Z"
    },
    "papermill": {
     "duration": 0.335542,
     "end_time": "2021-08-08T18:15:31.867549",
     "exception": false,
     "start_time": "2021-08-08T18:15:31.532007",
     "status": "completed"
    },
    "tags": []
   },
   "outputs": [
    {
     "name": "stdout",
     "output_type": "stream",
     "text": [
      "              precision    recall  f1-score   support\n",
      "\n",
      "           0       0.03      0.04      0.04       138\n",
      "           1       0.21      0.28      0.24      7628\n",
      "           2       0.00      0.00      0.00        38\n",
      "           3       0.00      0.00      0.00        25\n",
      "           4       0.13      0.14      0.13      3651\n",
      "           5       0.01      0.02      0.02       396\n",
      "           6       0.03      0.04      0.03       211\n",
      "           7       0.35      0.49      0.41      5344\n",
      "           8       0.00      0.00      0.00       432\n",
      "           9       0.02      0.02      0.02       128\n",
      "          10       0.00      0.00      0.00        23\n",
      "          11       0.02      0.02      0.02        45\n",
      "          12       0.11      0.12      0.12      1058\n",
      "          13       0.07      0.09      0.08      1632\n",
      "          14       0.17      0.25      0.20        12\n",
      "          15       0.05      0.06      0.05       236\n",
      "          16       0.40      0.35      0.37     17512\n",
      "          17       0.04      0.05      0.04       198\n",
      "          18       0.11      0.14      0.12       101\n",
      "          19       0.46      0.54      0.50      2571\n",
      "          20       0.21      0.19      0.20      9236\n",
      "          21       0.25      0.24      0.24     12515\n",
      "          22       0.00      0.00      0.00         2\n",
      "          23       0.55      0.52      0.54       749\n",
      "          24       0.05      0.04      0.04       325\n",
      "          25       0.08      0.07      0.08      2377\n",
      "          26       0.16      0.14      0.15       192\n",
      "          27       0.00      0.00      0.00       992\n",
      "          28       0.12      0.13      0.13       424\n",
      "          29       0.00      0.00      0.00        19\n",
      "          30       0.01      0.01      0.01       482\n",
      "          31       0.04      0.05      0.04        43\n",
      "          32       0.06      0.06      0.06      3187\n",
      "          34       0.02      0.02      0.02       755\n",
      "          35       0.12      0.10      0.11      4408\n",
      "          36       0.43      0.47      0.45      5354\n",
      "          37       0.13      0.10      0.11      4276\n",
      "          38       0.11      0.09      0.10       858\n",
      "\n",
      "    accuracy                           0.25     87573\n",
      "   macro avg       0.12      0.13      0.12     87573\n",
      "weighted avg       0.25      0.25      0.25     87573\n",
      "\n"
     ]
    }
   ],
   "source": [
    "print (classification_report(y_test,predictions))"
   ]
  },
  {
   "cell_type": "code",
   "execution_count": 144,
   "id": "9f89a67d",
   "metadata": {
    "execution": {
     "iopub.execute_input": "2021-08-08T18:15:32.055181Z",
     "iopub.status.busy": "2021-08-08T18:15:32.054295Z",
     "iopub.status.idle": "2021-08-08T18:16:38.894616Z",
     "shell.execute_reply": "2021-08-08T18:16:38.895138Z",
     "shell.execute_reply.started": "2021-08-08T18:10:36.229281Z"
    },
    "papermill": {
     "duration": 66.940149,
     "end_time": "2021-08-08T18:16:38.895304",
     "exception": false,
     "start_time": "2021-08-08T18:15:31.955155",
     "status": "completed"
    },
    "tags": []
   },
   "outputs": [
    {
     "data": {
      "text/plain": [
       "RandomForestClassifier(min_samples_split=100, n_estimators=40)"
      ]
     },
     "execution_count": 144,
     "metadata": {},
     "output_type": "execute_result"
    }
   ],
   "source": [
    "#Fitting In RandomForest Ensemble\n",
    "rfc = RandomForestClassifier(n_estimators=40,min_samples_split=100 )\n",
    "rfc.fit(X_train, y_train)"
   ]
  },
  {
   "cell_type": "code",
   "execution_count": 145,
   "id": "cd682524",
   "metadata": {
    "execution": {
     "iopub.execute_input": "2021-08-08T18:16:39.005389Z",
     "iopub.status.busy": "2021-08-08T18:16:39.004195Z",
     "iopub.status.idle": "2021-08-08T18:16:56.210439Z",
     "shell.execute_reply": "2021-08-08T18:16:56.210012Z",
     "shell.execute_reply.started": "2021-08-08T18:11:39.126666Z"
    },
    "papermill": {
     "duration": 17.26106,
     "end_time": "2021-08-08T18:16:56.210571",
     "exception": false,
     "start_time": "2021-08-08T18:16:38.949511",
     "status": "completed"
    },
    "tags": []
   },
   "outputs": [
    {
     "name": "stdout",
     "output_type": "stream",
     "text": [
      "Train Accuracy:  0.37863333642072033\n",
      "Test Accuracy:  0.31983602251835613\n"
     ]
    }
   ],
   "source": [
    "#Predicting The Final Results\n",
    "rfc_pred = rfc.predict(X_test)\n",
    "print (\"Train Accuracy: \", accuracy_score(y_train, rfc.predict(X_train)))\n",
    "print (\"Test Accuracy: \", accuracy_score(y_test, rfc_pred))\n"
   ]
  },
  {
   "cell_type": "code",
   "execution_count": 146,
   "id": "1e4840d3",
   "metadata": {
    "execution": {
     "iopub.execute_input": "2021-08-08T18:16:56.311658Z",
     "iopub.status.busy": "2021-08-08T18:16:56.310812Z",
     "iopub.status.idle": "2021-08-08T18:16:56.507166Z",
     "shell.execute_reply": "2021-08-08T18:16:56.506486Z",
     "shell.execute_reply.started": "2021-08-08T18:12:00.257700Z"
    },
    "papermill": {
     "duration": 0.249169,
     "end_time": "2021-08-08T18:16:56.507323",
     "exception": false,
     "start_time": "2021-08-08T18:16:56.258154",
     "status": "completed"
    },
    "tags": []
   },
   "outputs": [
    {
     "name": "stdout",
     "output_type": "stream",
     "text": [
      "              precision    recall  f1-score   support\n",
      "\n",
      "           0       0.00      0.00      0.00       138\n",
      "           1       0.21      0.23      0.22      7628\n",
      "           2       0.00      0.00      0.00        38\n",
      "           3       0.00      0.00      0.00        25\n",
      "           4       0.26      0.04      0.07      3651\n",
      "           5       0.14      0.02      0.03       396\n",
      "           6       0.00      0.00      0.00       211\n",
      "           7       0.36      0.46      0.40      5344\n",
      "           8       0.00      0.00      0.00       432\n",
      "           9       0.00      0.00      0.00       128\n",
      "          10       0.00      0.00      0.00        23\n",
      "          11       0.00      0.00      0.00        45\n",
      "          12       0.22      0.03      0.05      1058\n",
      "          13       0.29      0.02      0.03      1632\n",
      "          14       0.00      0.00      0.00        12\n",
      "          15       0.00      0.00      0.00       236\n",
      "          16       0.34      0.77      0.47     17512\n",
      "          17       0.80      0.02      0.04       198\n",
      "          18       0.50      0.02      0.04       101\n",
      "          19       0.54      0.30      0.39      2571\n",
      "          20       0.28      0.19      0.23      9236\n",
      "          21       0.31      0.44      0.36     12515\n",
      "          22       0.00      0.00      0.00         2\n",
      "          23       0.55      0.64      0.59       749\n",
      "          24       0.00      0.00      0.00       325\n",
      "          25       0.00      0.00      0.00      2377\n",
      "          26       0.56      0.09      0.16       192\n",
      "          27       0.00      0.00      0.00       992\n",
      "          28       0.67      0.01      0.02       424\n",
      "          29       0.00      0.00      0.00        19\n",
      "          30       0.00      0.00      0.00       482\n",
      "          31       0.00      0.00      0.00        43\n",
      "          32       0.29      0.00      0.00      3187\n",
      "          34       0.35      0.02      0.03       755\n",
      "          35       0.22      0.01      0.03      4408\n",
      "          36       0.33      0.29      0.31      5354\n",
      "          37       0.25      0.01      0.02      4276\n",
      "          38       0.00      0.00      0.00       858\n",
      "\n",
      "    accuracy                           0.32     87573\n",
      "   macro avg       0.20      0.09      0.09     87573\n",
      "weighted avg       0.28      0.32      0.26     87573\n",
      "\n"
     ]
    },
    {
     "name": "stderr",
     "output_type": "stream",
     "text": [
      "/Users/bhargavanudeepkoripalli/opt/anaconda3/lib/python3.8/site-packages/sklearn/metrics/_classification.py:1245: UndefinedMetricWarning: Precision and F-score are ill-defined and being set to 0.0 in labels with no predicted samples. Use `zero_division` parameter to control this behavior.\n",
      "  _warn_prf(average, modifier, msg_start, len(result))\n",
      "/Users/bhargavanudeepkoripalli/opt/anaconda3/lib/python3.8/site-packages/sklearn/metrics/_classification.py:1245: UndefinedMetricWarning: Precision and F-score are ill-defined and being set to 0.0 in labels with no predicted samples. Use `zero_division` parameter to control this behavior.\n",
      "  _warn_prf(average, modifier, msg_start, len(result))\n",
      "/Users/bhargavanudeepkoripalli/opt/anaconda3/lib/python3.8/site-packages/sklearn/metrics/_classification.py:1245: UndefinedMetricWarning: Precision and F-score are ill-defined and being set to 0.0 in labels with no predicted samples. Use `zero_division` parameter to control this behavior.\n",
      "  _warn_prf(average, modifier, msg_start, len(result))\n"
     ]
    }
   ],
   "source": [
    "print (classification_report(y_test,rfc_pred))"
   ]
  },
  {
   "cell_type": "code",
   "execution_count": 147,
   "id": "e0fa0f21",
   "metadata": {
    "execution": {
     "iopub.execute_input": "2021-08-08T18:16:56.610198Z",
     "iopub.status.busy": "2021-08-08T18:16:56.609438Z",
     "iopub.status.idle": "2021-08-08T18:16:57.468280Z",
     "shell.execute_reply": "2021-08-08T18:16:57.467760Z",
     "shell.execute_reply.started": "2021-08-08T18:12:00.425978Z"
    },
    "papermill": {
     "duration": 0.914345,
     "end_time": "2021-08-08T18:16:57.468407",
     "exception": false,
     "start_time": "2021-08-08T18:16:56.554062",
     "status": "completed"
    },
    "tags": []
   },
   "outputs": [
    {
     "data": {
      "image/png": "[encoded data removed]",
      "text/plain": [
       "<Figure size 720x504 with 2 Axes>"
      ]
     },
     "metadata": {},
     "output_type": "display_data"
    }
   ],
   "source": [
    "cm = confusion_matrix(y_test,predictions)\n",
    "fig, ax = plt.subplots(figsize=(10, 7))\n",
    "sns.heatmap(cm, annot=False, ax = ax); \n",
    "ax.set_xlabel('Predicted labels');ax.set_ylabel('True labels'); \n",
    "ax.set_title('Confusion Matrix');"
   ]
  },
  {
   "cell_type": "markdown",
   "id": "c66d326a",
   "metadata": {
    "papermill": {
     "duration": 0.051646,
     "end_time": "2021-08-08T18:16:57.568335",
     "exception": false,
     "start_time": "2021-08-08T18:16:57.516689",
     "status": "completed"
    },
    "tags": []
   },
   "source": [
    "> **Plotting feature importance in prediction*"
   ]
  },
  {
   "cell_type": "code",
   "execution_count": 148,
   "id": "92ae858a",
   "metadata": {
    "execution": {
     "iopub.execute_input": "2021-08-08T18:16:57.664262Z",
     "iopub.status.busy": "2021-08-08T18:16:57.663401Z",
     "iopub.status.idle": "2021-08-08T18:16:57.835077Z",
     "shell.execute_reply": "2021-08-08T18:16:57.835483Z",
     "shell.execute_reply.started": "2021-08-08T18:12:01.449729Z"
    },
    "papermill": {
     "duration": 0.222152,
     "end_time": "2021-08-08T18:16:57.835625",
     "exception": false,
     "start_time": "2021-08-08T18:16:57.613473",
     "status": "completed"
    },
    "tags": []
   },
   "outputs": [
    {
     "data": {
      "image/png": "[encoded data removed]",
      "text/plain": [
       "<Figure size 432x288 with 1 Axes>"
      ]
     },
     "metadata": {},
     "output_type": "display_data"
    }
   ],
   "source": [
    "n_features = X.shape[1]\n",
    "plt.barh(range(n_features),rfc.feature_importances_)\n",
    "plt.yticks(np.arange(n_features),train.columns[1:])\n",
    "plt.show()"
   ]
  },
  {
   "cell_type": "markdown",
   "id": "2b368bb1",
   "metadata": {
    "papermill": {
     "duration": 0.04592,
     "end_time": "2021-08-08T18:16:57.927484",
     "exception": false,
     "start_time": "2021-08-08T18:16:57.881564",
     "status": "completed"
    },
    "tags": []
   },
   "source": [
    "# Submission"
   ]
  },
  {
   "cell_type": "code",
   "execution_count": 149,
   "id": "a44d22f2",
   "metadata": {
    "execution": {
     "iopub.execute_input": "2021-08-08T18:16:58.024739Z",
     "iopub.status.busy": "2021-08-08T18:16:58.024057Z",
     "iopub.status.idle": "2021-08-08T18:16:58.027245Z",
     "shell.execute_reply": "2021-08-08T18:16:58.027659Z",
     "shell.execute_reply.started": "2021-08-08T18:12:01.685189Z"
    },
    "papermill": {
     "duration": 0.054897,
     "end_time": "2021-08-08T18:16:58.027810",
     "exception": false,
     "start_time": "2021-08-08T18:16:57.972913",
     "status": "completed"
    },
    "tags": []
   },
   "outputs": [
    {
     "data": {
      "text/plain": [
       "array(['ARSON', 'ASSAULT', 'BAD CHECKS', 'BRIBERY', 'BURGLARY',\n",
       "       'DISORDERLY CONDUCT', 'DRIVING UNDER THE INFLUENCE',\n",
       "       'DRUG/NARCOTIC', 'DRUNKENNESS', 'EMBEZZLEMENT', 'EXTORTION',\n",
       "       'FAMILY OFFENSES', 'FORGERY/COUNTERFEITING', 'FRAUD', 'GAMBLING',\n",
       "       'KIDNAPPING', 'LARCENY/THEFT', 'LIQUOR LAWS', 'LOITERING',\n",
       "       'MISSING PERSON', 'NON-CRIMINAL', 'OTHER OFFENSES',\n",
       "       'PORNOGRAPHY/OBSCENE MAT', 'PROSTITUTION', 'RECOVERED VEHICLE',\n",
       "       'ROBBERY', 'RUNAWAY', 'SECONDARY CODES', 'SEX OFFENSES FORCIBLE',\n",
       "       'SEX OFFENSES NON FORCIBLE', 'STOLEN PROPERTY', 'SUICIDE',\n",
       "       'SUSPICIOUS OCC', 'TREA', 'TRESPASS', 'VANDALISM', 'VEHICLE THEFT',\n",
       "       'WARRANTS', 'WEAPON LAWS'], dtype=object)"
      ]
     },
     "execution_count": 149,
     "metadata": {},
     "output_type": "execute_result"
    }
   ],
   "source": [
    "keys = le2.classes_\n",
    "values = le2.transform(le2.classes_)\n",
    "keys"
   ]
  },
  {
   "cell_type": "code",
   "execution_count": 150,
   "id": "dab1ebaf",
   "metadata": {
    "execution": {
     "iopub.execute_input": "2021-08-08T18:16:58.124173Z",
     "iopub.status.busy": "2021-08-08T18:16:58.123513Z",
     "iopub.status.idle": "2021-08-08T18:16:58.126748Z",
     "shell.execute_reply": "2021-08-08T18:16:58.127341Z",
     "shell.execute_reply.started": "2021-08-08T18:12:01.696667Z"
    },
    "papermill": {
     "duration": 0.05397,
     "end_time": "2021-08-08T18:16:58.127517",
     "exception": false,
     "start_time": "2021-08-08T18:16:58.073547",
     "status": "completed"
    },
    "tags": []
   },
   "outputs": [
    {
     "name": "stdout",
     "output_type": "stream",
     "text": [
      "{'ARSON': 0, 'ASSAULT': 1, 'BAD CHECKS': 2, 'BRIBERY': 3, 'BURGLARY': 4, 'DISORDERLY CONDUCT': 5, 'DRIVING UNDER THE INFLUENCE': 6, 'DRUG/NARCOTIC': 7, 'DRUNKENNESS': 8, 'EMBEZZLEMENT': 9, 'EXTORTION': 10, 'FAMILY OFFENSES': 11, 'FORGERY/COUNTERFEITING': 12, 'FRAUD': 13, 'GAMBLING': 14, 'KIDNAPPING': 15, 'LARCENY/THEFT': 16, 'LIQUOR LAWS': 17, 'LOITERING': 18, 'MISSING PERSON': 19, 'NON-CRIMINAL': 20, 'OTHER OFFENSES': 21, 'PORNOGRAPHY/OBSCENE MAT': 22, 'PROSTITUTION': 23, 'RECOVERED VEHICLE': 24, 'ROBBERY': 25, 'RUNAWAY': 26, 'SECONDARY CODES': 27, 'SEX OFFENSES FORCIBLE': 28, 'SEX OFFENSES NON FORCIBLE': 29, 'STOLEN PROPERTY': 30, 'SUICIDE': 31, 'SUSPICIOUS OCC': 32, 'TREA': 33, 'TRESPASS': 34, 'VANDALISM': 35, 'VEHICLE THEFT': 36, 'WARRANTS': 37, 'WEAPON LAWS': 38}\n"
     ]
    }
   ],
   "source": [
    "dictionary = dict(zip(keys, values))\n",
    "print(dictionary)"
   ]
  },
  {
   "cell_type": "code",
   "execution_count": 151,
   "id": "92f5ba23",
   "metadata": {
    "execution": {
     "iopub.execute_input": "2021-08-08T18:16:58.229619Z",
     "iopub.status.busy": "2021-08-08T18:16:58.228382Z",
     "iopub.status.idle": "2021-08-08T18:17:11.984026Z",
     "shell.execute_reply": "2021-08-08T18:17:11.983511Z",
     "shell.execute_reply.started": "2021-08-08T18:12:01.710593Z"
    },
    "papermill": {
     "duration": 13.809315,
     "end_time": "2021-08-08T18:17:11.984164",
     "exception": false,
     "start_time": "2021-08-08T18:16:58.174849",
     "status": "completed"
    },
    "tags": []
   },
   "outputs": [
    {
     "data": {
      "text/plain": [
       "array([[0.01232945, 0.21601067, 0.        , ..., 0.0674093 , 0.04331862,\n",
       "        0.035795  ],\n",
       "       [0.00032004, 0.09488632, 0.        , ..., 0.01564704, 0.06252564,\n",
       "        0.02383359],\n",
       "       [0.005309  , 0.11306392, 0.        , ..., 0.03225903, 0.02377284,\n",
       "        0.01624286],\n",
       "       ...,\n",
       "       [0.00146788, 0.08902528, 0.00572985, ..., 0.16919022, 0.02637813,\n",
       "        0.00293204],\n",
       "       [0.00935975, 0.15596875, 0.00547107, ..., 0.09514844, 0.02487694,\n",
       "        0.00934517],\n",
       "       [0.0004386 , 0.06480586, 0.00100574, ..., 0.17838145, 0.00217741,\n",
       "        0.00422012]])"
      ]
     },
     "execution_count": 151,
     "metadata": {},
     "output_type": "execute_result"
    }
   ],
   "source": [
    "y_pred_proba = rfc.predict_proba(test)\n",
    "y_pred_proba"
   ]
  },
  {
   "cell_type": "code",
   "execution_count": 152,
   "id": "d1775149",
   "metadata": {
    "execution": {
     "iopub.execute_input": "2021-08-08T18:17:12.106622Z",
     "iopub.status.busy": "2021-08-08T18:17:12.105608Z",
     "iopub.status.idle": "2021-08-08T18:17:12.110041Z",
     "shell.execute_reply": "2021-08-08T18:17:12.109589Z",
     "shell.execute_reply.started": "2021-08-08T18:12:19.389056Z"
    },
    "papermill": {
     "duration": 0.075119,
     "end_time": "2021-08-08T18:17:12.110178",
     "exception": false,
     "start_time": "2021-08-08T18:17:12.035059",
     "status": "completed"
    },
    "tags": []
   },
   "outputs": [
    {
     "data": {
      "text/html": [
       "<div>\n",
       "<style scoped>\n",
       "    .dataframe tbody tr th:only-of-type {\n",
       "        vertical-align: middle;\n",
       "    }\n",
       "\n",
       "    .dataframe tbody tr th {\n",
       "        vertical-align: top;\n",
       "    }\n",
       "\n",
       "    .dataframe thead th {\n",
       "        text-align: right;\n",
       "    }\n",
       "</style>\n",
       "<table border=\"1\" class=\"dataframe\">\n",
       "  <thead>\n",
       "    <tr style=\"text-align: right;\">\n",
       "      <th></th>\n",
       "      <th>ARSON</th>\n",
       "      <th>ASSAULT</th>\n",
       "      <th>BAD CHECKS</th>\n",
       "      <th>BRIBERY</th>\n",
       "      <th>BURGLARY</th>\n",
       "      <th>DISORDERLY CONDUCT</th>\n",
       "      <th>DRIVING UNDER THE INFLUENCE</th>\n",
       "      <th>DRUG/NARCOTIC</th>\n",
       "      <th>DRUNKENNESS</th>\n",
       "      <th>EMBEZZLEMENT</th>\n",
       "      <th>...</th>\n",
       "      <th>SEX OFFENSES NON FORCIBLE</th>\n",
       "      <th>STOLEN PROPERTY</th>\n",
       "      <th>SUICIDE</th>\n",
       "      <th>SUSPICIOUS OCC</th>\n",
       "      <th>TREA</th>\n",
       "      <th>TRESPASS</th>\n",
       "      <th>VANDALISM</th>\n",
       "      <th>VEHICLE THEFT</th>\n",
       "      <th>WARRANTS</th>\n",
       "      <th>WEAPON LAWS</th>\n",
       "    </tr>\n",
       "  </thead>\n",
       "  <tbody>\n",
       "    <tr>\n",
       "      <th>0</th>\n",
       "      <td>0.012329</td>\n",
       "      <td>0.216011</td>\n",
       "      <td>0.000000</td>\n",
       "      <td>0.004547</td>\n",
       "      <td>0.036838</td>\n",
       "      <td>0.002031</td>\n",
       "      <td>0.006531</td>\n",
       "      <td>0.024751</td>\n",
       "      <td>0.006027</td>\n",
       "      <td>0.000472</td>\n",
       "      <td>...</td>\n",
       "      <td>0.000000</td>\n",
       "      <td>0.008252</td>\n",
       "      <td>0.000168</td>\n",
       "      <td>0.088808</td>\n",
       "      <td>0.0</td>\n",
       "      <td>0.004538</td>\n",
       "      <td>0.052815</td>\n",
       "      <td>0.067409</td>\n",
       "      <td>0.043319</td>\n",
       "      <td>0.035795</td>\n",
       "    </tr>\n",
       "    <tr>\n",
       "      <th>1</th>\n",
       "      <td>0.000320</td>\n",
       "      <td>0.094886</td>\n",
       "      <td>0.000000</td>\n",
       "      <td>0.000000</td>\n",
       "      <td>0.001893</td>\n",
       "      <td>0.002857</td>\n",
       "      <td>0.034362</td>\n",
       "      <td>0.066638</td>\n",
       "      <td>0.002042</td>\n",
       "      <td>0.000000</td>\n",
       "      <td>...</td>\n",
       "      <td>0.000000</td>\n",
       "      <td>0.003262</td>\n",
       "      <td>0.000000</td>\n",
       "      <td>0.051889</td>\n",
       "      <td>0.0</td>\n",
       "      <td>0.000217</td>\n",
       "      <td>0.016985</td>\n",
       "      <td>0.015647</td>\n",
       "      <td>0.062526</td>\n",
       "      <td>0.023834</td>\n",
       "    </tr>\n",
       "    <tr>\n",
       "      <th>2</th>\n",
       "      <td>0.005309</td>\n",
       "      <td>0.113064</td>\n",
       "      <td>0.000000</td>\n",
       "      <td>0.000281</td>\n",
       "      <td>0.057445</td>\n",
       "      <td>0.002927</td>\n",
       "      <td>0.002791</td>\n",
       "      <td>0.021115</td>\n",
       "      <td>0.004556</td>\n",
       "      <td>0.000168</td>\n",
       "      <td>...</td>\n",
       "      <td>0.000000</td>\n",
       "      <td>0.005122</td>\n",
       "      <td>0.000000</td>\n",
       "      <td>0.044294</td>\n",
       "      <td>0.0</td>\n",
       "      <td>0.009652</td>\n",
       "      <td>0.047694</td>\n",
       "      <td>0.032259</td>\n",
       "      <td>0.023773</td>\n",
       "      <td>0.016243</td>\n",
       "    </tr>\n",
       "    <tr>\n",
       "      <th>3</th>\n",
       "      <td>0.000427</td>\n",
       "      <td>0.138180</td>\n",
       "      <td>0.000455</td>\n",
       "      <td>0.000678</td>\n",
       "      <td>0.021604</td>\n",
       "      <td>0.002569</td>\n",
       "      <td>0.002063</td>\n",
       "      <td>0.053390</td>\n",
       "      <td>0.007908</td>\n",
       "      <td>0.000000</td>\n",
       "      <td>...</td>\n",
       "      <td>0.000181</td>\n",
       "      <td>0.012637</td>\n",
       "      <td>0.000000</td>\n",
       "      <td>0.049728</td>\n",
       "      <td>0.0</td>\n",
       "      <td>0.008412</td>\n",
       "      <td>0.068330</td>\n",
       "      <td>0.087674</td>\n",
       "      <td>0.065789</td>\n",
       "      <td>0.031866</td>\n",
       "    </tr>\n",
       "    <tr>\n",
       "      <th>4</th>\n",
       "      <td>0.000427</td>\n",
       "      <td>0.138180</td>\n",
       "      <td>0.000455</td>\n",
       "      <td>0.000678</td>\n",
       "      <td>0.021604</td>\n",
       "      <td>0.002569</td>\n",
       "      <td>0.002063</td>\n",
       "      <td>0.053390</td>\n",
       "      <td>0.007908</td>\n",
       "      <td>0.000000</td>\n",
       "      <td>...</td>\n",
       "      <td>0.000181</td>\n",
       "      <td>0.012637</td>\n",
       "      <td>0.000000</td>\n",
       "      <td>0.049728</td>\n",
       "      <td>0.0</td>\n",
       "      <td>0.008412</td>\n",
       "      <td>0.068330</td>\n",
       "      <td>0.087674</td>\n",
       "      <td>0.065789</td>\n",
       "      <td>0.031866</td>\n",
       "    </tr>\n",
       "  </tbody>\n",
       "</table>\n",
       "<p>5 rows × 39 columns</p>\n",
       "</div>"
      ],
      "text/plain": [
       "      ARSON   ASSAULT  BAD CHECKS   BRIBERY  BURGLARY  DISORDERLY CONDUCT  \\\n",
       "0  0.012329  0.216011    0.000000  0.004547  0.036838            0.002031   \n",
       "1  0.000320  0.094886    0.000000  0.000000  0.001893            0.002857   \n",
       "2  0.005309  0.113064    0.000000  0.000281  0.057445            0.002927   \n",
       "3  0.000427  0.138180    0.000455  0.000678  0.021604            0.002569   \n",
       "4  0.000427  0.138180    0.000455  0.000678  0.021604            0.002569   \n",
       "\n",
       "   DRIVING UNDER THE INFLUENCE  DRUG/NARCOTIC  DRUNKENNESS  EMBEZZLEMENT  ...  \\\n",
       "0                     0.006531       0.024751     0.006027      0.000472  ...   \n",
       "1                     0.034362       0.066638     0.002042      0.000000  ...   \n",
       "2                     0.002791       0.021115     0.004556      0.000168  ...   \n",
       "3                     0.002063       0.053390     0.007908      0.000000  ...   \n",
       "4                     0.002063       0.053390     0.007908      0.000000  ...   \n",
       "\n",
       "   SEX OFFENSES NON FORCIBLE  STOLEN PROPERTY   SUICIDE  SUSPICIOUS OCC  TREA  \\\n",
       "0                   0.000000         0.008252  0.000168        0.088808   0.0   \n",
       "1                   0.000000         0.003262  0.000000        0.051889   0.0   \n",
       "2                   0.000000         0.005122  0.000000        0.044294   0.0   \n",
       "3                   0.000181         0.012637  0.000000        0.049728   0.0   \n",
       "4                   0.000181         0.012637  0.000000        0.049728   0.0   \n",
       "\n",
       "   TRESPASS  VANDALISM  VEHICLE THEFT  WARRANTS  WEAPON LAWS  \n",
       "0  0.004538   0.052815       0.067409  0.043319     0.035795  \n",
       "1  0.000217   0.016985       0.015647  0.062526     0.023834  \n",
       "2  0.009652   0.047694       0.032259  0.023773     0.016243  \n",
       "3  0.008412   0.068330       0.087674  0.065789     0.031866  \n",
       "4  0.008412   0.068330       0.087674  0.065789     0.031866  \n",
       "\n",
       "[5 rows x 39 columns]"
      ]
     },
     "execution_count": 152,
     "metadata": {},
     "output_type": "execute_result"
    }
   ],
   "source": [
    "result = pd.DataFrame(y_pred_proba, columns=keys)\n",
    "result.head()"
   ]
  }
 ],
 "metadata": {
  "kernelspec": {
   "display_name": "Python 3 (ipykernel)",
   "language": "python",
   "name": "python3"
  },
  "language_info": {
   "codemirror_mode": {
    "name": "ipython",
    "version": 3
   },
   "file_extension": ".py",
   "mimetype": "text/x-python",
   "name": "python",
   "nbconvert_exporter": "python",
   "pygments_lexer": "ipython3",
   "version": "3.8.8"
  },
  "papermill": {
   "default_parameters": {},
   "duration": 248.77938,
   "end_time": "2021-08-08T18:18:13.285779",
   "environment_variables": {},
   "exception": null,
   "input_path": "__notebook__.ipynb",
   "output_path": "__notebook__.ipynb",
   "parameters": {},
   "start_time": "2021-08-08T18:14:04.506399",
   "version": "2.3.3"
  }
 },
 "nbformat": 4,
 "nbformat_minor": 5
}
